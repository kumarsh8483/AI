{
  "nbformat": 4,
  "nbformat_minor": 0,
  "metadata": {
    "colab": {
      "name": "sparknlp.ipynb",
      "provenance": [],
      "authorship_tag": "ABX9TyPVjG3FcN1kkymTQZNeLEV/",
      "include_colab_link": true
    },
    "kernelspec": {
      "name": "python3",
      "display_name": "Python 3"
    },
    "language_info": {
      "name": "python"
    }
  },
  "cells": [
    {
      "cell_type": "markdown",
      "metadata": {
        "id": "view-in-github",
        "colab_type": "text"
      },
      "source": [
        "<a href=\"https://colab.research.google.com/github/kumarsh8483/AI/blob/master/sparknlp.ipynb\" target=\"_parent\"><img src=\"https://colab.research.google.com/assets/colab-badge.svg\" alt=\"Open In Colab\"/></a>"
      ]
    },
    {
      "cell_type": "code",
      "execution_count": null,
      "metadata": {
        "colab": {
          "base_uri": "https://localhost:8080/"
        },
        "id": "WI0GKS9E5Ek_",
        "outputId": "12d767f8-5dbe-4372-f9de-245bf1675bce"
      },
      "outputs": [
        {
          "output_type": "stream",
          "name": "stdout",
          "text": [
            "Looking in indexes: https://pypi.org/simple, https://us-python.pkg.dev/colab-wheels/public/simple/\n",
            "Collecting pyspark==3.1.2\n",
            "  Downloading pyspark-3.1.2.tar.gz (212.4 MB)\n",
            "\u001b[K     |████████████████████████████████| 212.4 MB 58 kB/s \n",
            "\u001b[?25hCollecting py4j==0.10.9\n",
            "  Downloading py4j-0.10.9-py2.py3-none-any.whl (198 kB)\n",
            "\u001b[K     |████████████████████████████████| 198 kB 65.3 MB/s \n",
            "\u001b[?25hBuilding wheels for collected packages: pyspark\n",
            "  Building wheel for pyspark (setup.py) ... \u001b[?25l\u001b[?25hdone\n",
            "  Created wheel for pyspark: filename=pyspark-3.1.2-py2.py3-none-any.whl size=212880769 sha256=db5a652bb320274dbe10ac1efce64873b6703644a5e43565bf04fa9f65878591\n",
            "  Stored in directory: /root/.cache/pip/wheels/a5/0a/c1/9561f6fecb759579a7d863dcd846daaa95f598744e71b02c77\n",
            "Successfully built pyspark\n",
            "Installing collected packages: py4j, pyspark\n",
            "Successfully installed py4j-0.10.9 pyspark-3.1.2\n",
            "Looking in indexes: https://pypi.org/simple, https://us-python.pkg.dev/colab-wheels/public/simple/\n",
            "Collecting sparknlp\n",
            "  Downloading sparknlp-1.0.0-py3-none-any.whl (1.4 kB)\n",
            "Requirement already satisfied: numpy in /usr/local/lib/python3.7/dist-packages (from sparknlp) (1.21.6)\n",
            "Collecting spark-nlp\n",
            "  Downloading spark_nlp-3.4.4-py2.py3-none-any.whl (145 kB)\n",
            "\u001b[K     |████████████████████████████████| 145 kB 4.9 MB/s \n",
            "\u001b[?25hInstalling collected packages: spark-nlp, sparknlp\n",
            "Successfully installed spark-nlp-3.4.4 sparknlp-1.0.0\n"
          ]
        }
      ],
      "source": [
        "!pip install pyspark==3.1.2\n",
        "!pip install sparknlp\n",
        "import sparknlp\n",
        "from sparknlp.base import *\n",
        "from sparknlp.annotator import *\n"
      ]
    },
    {
      "cell_type": "code",
      "source": [
        "spark = sparknlp.start()"
      ],
      "metadata": {
        "id": "YobZ8a4u5wdG"
      },
      "execution_count": null,
      "outputs": []
    },
    {
      "cell_type": "code",
      "source": [
        "import pandas as pd\n",
        "df = pd.read_csv('/content/input_data.csv')\n",
        "#df.values.tolist()\n",
        "df"
      ],
      "metadata": {
        "colab": {
          "base_uri": "https://localhost:8080/",
          "height": 269
        },
        "id": "fvJITPuD5-hS",
        "outputId": "17fbf5f5-f6b8-4dac-fddb-d7644138f3c4"
      },
      "execution_count": null,
      "outputs": [
        {
          "output_type": "execute_result",
          "data": {
            "text/plain": [
              "   Unnamed: 0 reqnumber  li_orderid  cde_name    E  F li_cat     H  \\\n",
              "0           1      A102        9901      1000  Cat  1    Cat  9901   \n",
              "1           2      A103        9901      1000  Cat  1    Cat  9901   \n",
              "2           3      A104        9901      1000  Cat  2    Cat  9901   \n",
              "3           4      A105        9901      1000  Cat  3    Cat  9901   \n",
              "4           5      A106        9901      1000  Cat  4    Cat  9901   \n",
              "5           6      A107        9901      1000  Cat  5    Cat  9901   \n",
              "6           7      A108        9901      1000  Cat  6    Cat  9901   \n",
              "\n",
              "      li_name  J  K  L req_name          li_description  \n",
              "0   John LLC4  1  1  1    Smith  equipment for cleaning  \n",
              "1   John LLC5  1  1  1    Smith     bottles for storage  \n",
              "2   John LLC6  1  1  1    Smith           mopping stick  \n",
              "3   John LLC7  1  1  1    Smith                 cleaner  \n",
              "4   John LLC8  1  1  1    Smith    hammers and wrenches  \n",
              "5   John LLC9  1  1  1    Smith                  pliers  \n",
              "6  John LLC10  1  1  1    Smith                tool set  "
            ],
            "text/html": [
              "\n",
              "  <div id=\"df-381e6e70-ab0f-435e-bfbc-f5691e8dfa7c\">\n",
              "    <div class=\"colab-df-container\">\n",
              "      <div>\n",
              "<style scoped>\n",
              "    .dataframe tbody tr th:only-of-type {\n",
              "        vertical-align: middle;\n",
              "    }\n",
              "\n",
              "    .dataframe tbody tr th {\n",
              "        vertical-align: top;\n",
              "    }\n",
              "\n",
              "    .dataframe thead th {\n",
              "        text-align: right;\n",
              "    }\n",
              "</style>\n",
              "<table border=\"1\" class=\"dataframe\">\n",
              "  <thead>\n",
              "    <tr style=\"text-align: right;\">\n",
              "      <th></th>\n",
              "      <th>Unnamed: 0</th>\n",
              "      <th>reqnumber</th>\n",
              "      <th>li_orderid</th>\n",
              "      <th>cde_name</th>\n",
              "      <th>E</th>\n",
              "      <th>F</th>\n",
              "      <th>li_cat</th>\n",
              "      <th>H</th>\n",
              "      <th>li_name</th>\n",
              "      <th>J</th>\n",
              "      <th>K</th>\n",
              "      <th>L</th>\n",
              "      <th>req_name</th>\n",
              "      <th>li_description</th>\n",
              "    </tr>\n",
              "  </thead>\n",
              "  <tbody>\n",
              "    <tr>\n",
              "      <th>0</th>\n",
              "      <td>1</td>\n",
              "      <td>A102</td>\n",
              "      <td>9901</td>\n",
              "      <td>1000</td>\n",
              "      <td>Cat</td>\n",
              "      <td>1</td>\n",
              "      <td>Cat</td>\n",
              "      <td>9901</td>\n",
              "      <td>John LLC4</td>\n",
              "      <td>1</td>\n",
              "      <td>1</td>\n",
              "      <td>1</td>\n",
              "      <td>Smith</td>\n",
              "      <td>equipment for cleaning</td>\n",
              "    </tr>\n",
              "    <tr>\n",
              "      <th>1</th>\n",
              "      <td>2</td>\n",
              "      <td>A103</td>\n",
              "      <td>9901</td>\n",
              "      <td>1000</td>\n",
              "      <td>Cat</td>\n",
              "      <td>1</td>\n",
              "      <td>Cat</td>\n",
              "      <td>9901</td>\n",
              "      <td>John LLC5</td>\n",
              "      <td>1</td>\n",
              "      <td>1</td>\n",
              "      <td>1</td>\n",
              "      <td>Smith</td>\n",
              "      <td>bottles for storage</td>\n",
              "    </tr>\n",
              "    <tr>\n",
              "      <th>2</th>\n",
              "      <td>3</td>\n",
              "      <td>A104</td>\n",
              "      <td>9901</td>\n",
              "      <td>1000</td>\n",
              "      <td>Cat</td>\n",
              "      <td>2</td>\n",
              "      <td>Cat</td>\n",
              "      <td>9901</td>\n",
              "      <td>John LLC6</td>\n",
              "      <td>1</td>\n",
              "      <td>1</td>\n",
              "      <td>1</td>\n",
              "      <td>Smith</td>\n",
              "      <td>mopping stick</td>\n",
              "    </tr>\n",
              "    <tr>\n",
              "      <th>3</th>\n",
              "      <td>4</td>\n",
              "      <td>A105</td>\n",
              "      <td>9901</td>\n",
              "      <td>1000</td>\n",
              "      <td>Cat</td>\n",
              "      <td>3</td>\n",
              "      <td>Cat</td>\n",
              "      <td>9901</td>\n",
              "      <td>John LLC7</td>\n",
              "      <td>1</td>\n",
              "      <td>1</td>\n",
              "      <td>1</td>\n",
              "      <td>Smith</td>\n",
              "      <td>cleaner</td>\n",
              "    </tr>\n",
              "    <tr>\n",
              "      <th>4</th>\n",
              "      <td>5</td>\n",
              "      <td>A106</td>\n",
              "      <td>9901</td>\n",
              "      <td>1000</td>\n",
              "      <td>Cat</td>\n",
              "      <td>4</td>\n",
              "      <td>Cat</td>\n",
              "      <td>9901</td>\n",
              "      <td>John LLC8</td>\n",
              "      <td>1</td>\n",
              "      <td>1</td>\n",
              "      <td>1</td>\n",
              "      <td>Smith</td>\n",
              "      <td>hammers and wrenches</td>\n",
              "    </tr>\n",
              "    <tr>\n",
              "      <th>5</th>\n",
              "      <td>6</td>\n",
              "      <td>A107</td>\n",
              "      <td>9901</td>\n",
              "      <td>1000</td>\n",
              "      <td>Cat</td>\n",
              "      <td>5</td>\n",
              "      <td>Cat</td>\n",
              "      <td>9901</td>\n",
              "      <td>John LLC9</td>\n",
              "      <td>1</td>\n",
              "      <td>1</td>\n",
              "      <td>1</td>\n",
              "      <td>Smith</td>\n",
              "      <td>pliers</td>\n",
              "    </tr>\n",
              "    <tr>\n",
              "      <th>6</th>\n",
              "      <td>7</td>\n",
              "      <td>A108</td>\n",
              "      <td>9901</td>\n",
              "      <td>1000</td>\n",
              "      <td>Cat</td>\n",
              "      <td>6</td>\n",
              "      <td>Cat</td>\n",
              "      <td>9901</td>\n",
              "      <td>John LLC10</td>\n",
              "      <td>1</td>\n",
              "      <td>1</td>\n",
              "      <td>1</td>\n",
              "      <td>Smith</td>\n",
              "      <td>tool set</td>\n",
              "    </tr>\n",
              "  </tbody>\n",
              "</table>\n",
              "</div>\n",
              "      <button class=\"colab-df-convert\" onclick=\"convertToInteractive('df-381e6e70-ab0f-435e-bfbc-f5691e8dfa7c')\"\n",
              "              title=\"Convert this dataframe to an interactive table.\"\n",
              "              style=\"display:none;\">\n",
              "        \n",
              "  <svg xmlns=\"http://www.w3.org/2000/svg\" height=\"24px\"viewBox=\"0 0 24 24\"\n",
              "       width=\"24px\">\n",
              "    <path d=\"M0 0h24v24H0V0z\" fill=\"none\"/>\n",
              "    <path d=\"M18.56 5.44l.94 2.06.94-2.06 2.06-.94-2.06-.94-.94-2.06-.94 2.06-2.06.94zm-11 1L8.5 8.5l.94-2.06 2.06-.94-2.06-.94L8.5 2.5l-.94 2.06-2.06.94zm10 10l.94 2.06.94-2.06 2.06-.94-2.06-.94-.94-2.06-.94 2.06-2.06.94z\"/><path d=\"M17.41 7.96l-1.37-1.37c-.4-.4-.92-.59-1.43-.59-.52 0-1.04.2-1.43.59L10.3 9.45l-7.72 7.72c-.78.78-.78 2.05 0 2.83L4 21.41c.39.39.9.59 1.41.59.51 0 1.02-.2 1.41-.59l7.78-7.78 2.81-2.81c.8-.78.8-2.07 0-2.86zM5.41 20L4 18.59l7.72-7.72 1.47 1.35L5.41 20z\"/>\n",
              "  </svg>\n",
              "      </button>\n",
              "      \n",
              "  <style>\n",
              "    .colab-df-container {\n",
              "      display:flex;\n",
              "      flex-wrap:wrap;\n",
              "      gap: 12px;\n",
              "    }\n",
              "\n",
              "    .colab-df-convert {\n",
              "      background-color: #E8F0FE;\n",
              "      border: none;\n",
              "      border-radius: 50%;\n",
              "      cursor: pointer;\n",
              "      display: none;\n",
              "      fill: #1967D2;\n",
              "      height: 32px;\n",
              "      padding: 0 0 0 0;\n",
              "      width: 32px;\n",
              "    }\n",
              "\n",
              "    .colab-df-convert:hover {\n",
              "      background-color: #E2EBFA;\n",
              "      box-shadow: 0px 1px 2px rgba(60, 64, 67, 0.3), 0px 1px 3px 1px rgba(60, 64, 67, 0.15);\n",
              "      fill: #174EA6;\n",
              "    }\n",
              "\n",
              "    [theme=dark] .colab-df-convert {\n",
              "      background-color: #3B4455;\n",
              "      fill: #D2E3FC;\n",
              "    }\n",
              "\n",
              "    [theme=dark] .colab-df-convert:hover {\n",
              "      background-color: #434B5C;\n",
              "      box-shadow: 0px 1px 3px 1px rgba(0, 0, 0, 0.15);\n",
              "      filter: drop-shadow(0px 1px 2px rgba(0, 0, 0, 0.3));\n",
              "      fill: #FFFFFF;\n",
              "    }\n",
              "  </style>\n",
              "\n",
              "      <script>\n",
              "        const buttonEl =\n",
              "          document.querySelector('#df-381e6e70-ab0f-435e-bfbc-f5691e8dfa7c button.colab-df-convert');\n",
              "        buttonEl.style.display =\n",
              "          google.colab.kernel.accessAllowed ? 'block' : 'none';\n",
              "\n",
              "        async function convertToInteractive(key) {\n",
              "          const element = document.querySelector('#df-381e6e70-ab0f-435e-bfbc-f5691e8dfa7c');\n",
              "          const dataTable =\n",
              "            await google.colab.kernel.invokeFunction('convertToInteractive',\n",
              "                                                     [key], {});\n",
              "          if (!dataTable) return;\n",
              "\n",
              "          const docLinkHtml = 'Like what you see? Visit the ' +\n",
              "            '<a target=\"_blank\" href=https://colab.research.google.com/notebooks/data_table.ipynb>data table notebook</a>'\n",
              "            + ' to learn more about interactive tables.';\n",
              "          element.innerHTML = '';\n",
              "          dataTable['output_type'] = 'display_data';\n",
              "          await google.colab.output.renderOutput(dataTable, element);\n",
              "          const docLink = document.createElement('div');\n",
              "          docLink.innerHTML = docLinkHtml;\n",
              "          element.appendChild(docLink);\n",
              "        }\n",
              "      </script>\n",
              "    </div>\n",
              "  </div>\n",
              "  "
            ]
          },
          "metadata": {},
          "execution_count": 3
        }
      ]
    },
    {
      "cell_type": "code",
      "source": [
        "\n",
        "from pyspark.sql.types import StringType\n",
        "data = spark.createDataFrame (df['li_description'].values.tolist(),StringType()).toDF(\"text\")\n",
        "data.show(truncate=80)"
      ],
      "metadata": {
        "colab": {
          "base_uri": "https://localhost:8080/"
        },
        "id": "vuGqoVndqnEm",
        "outputId": "afdc73b3-54d7-4908-f9f6-8e3b0b790e78"
      },
      "execution_count": null,
      "outputs": [
        {
          "output_type": "stream",
          "name": "stdout",
          "text": [
            "+----------------------+\n",
            "|                  text|\n",
            "+----------------------+\n",
            "|equipment for cleaning|\n",
            "|   bottles for storage|\n",
            "|         mopping stick|\n",
            "|               cleaner|\n",
            "|  hammers and wrenches|\n",
            "|                pliers|\n",
            "|              tool set|\n",
            "+----------------------+\n",
            "\n"
          ]
        }
      ]
    },
    {
      "cell_type": "code",
      "metadata": {
        "id": "6hq2ZBWl_WMu"
      },
      "source": [
        "\n",
        "from sparknlp.base import *\n",
        "from sparknlp.annotator import *\n",
        "\n",
        "documentAssembler = DocumentAssembler()\\\n",
        "    .setInputCol(\"textcol\")\\\n",
        "    .setOutputCol(\"document\")\n",
        "\n",
        "tokenizer = Tokenizer() \\\n",
        "    .setInputCols([\"document\"]) \\\n",
        "    .setOutputCol(\"token\")\n",
        "\n",
        "stopwords = StopWordsCleaner()\\\n",
        "    .setInputCols(\"token\")\\\n",
        "    .setOutputCol(\"stopwords\")\n",
        "           \n",
        "\n",
        "normalizer = Normalizer() \\\n",
        "    .setInputCols([\"stopwords\"]) \\\n",
        "    .setOutputCol(\"normalized\")\\\n",
        "    .setLowercase(True)\\\n",
        "    .setCleanupPatterns([\"[^\\w\\d\\s]\"]) # remove punctuations (keep alphanumeric chars)\n",
        "    # if we don't set CleanupPatterns, it will only keep alphabet letters ([^A-Za-z])\n",
        "\n",
        "nlpPipeline = Pipeline().setStages([\n",
        "    documentAssembler, \n",
        "    tokenizer,\n",
        "    stopwords,\n",
        "    normalizer\n",
        " ])\n",
        "\n",
        "\n",
        "#empty_df = spark.createDataFrame(data).toDF(\"text\")\n",
        "pipelineModel = nlpPipeline.fit(data)"
      ],
      "execution_count": 173,
      "outputs": []
    },
    {
      "cell_type": "code",
      "source": [
        "result = pipelineModel.transform(data)\n",
        "result.show()\n",
        "df3=result.select('normalized.result').show(truncate=False)"
      ],
      "metadata": {
        "colab": {
          "base_uri": "https://localhost:8080/"
        },
        "id": "WGnDYCOH2oCi",
        "outputId": "52a1bdb4-05a3-4f02-fc06-3586772955ba"
      },
      "execution_count": 174,
      "outputs": [
        {
          "output_type": "stream",
          "name": "stdout",
          "text": [
            "+--------------------+--------------------+--------------------+--------------------+--------------------+\n",
            "|                text|            document|               token|           stopwords|          normalized|\n",
            "+--------------------+--------------------+--------------------+--------------------+--------------------+\n",
            "|equipment for cle...|[{document, 0, 21...|[{token, 0, 8, eq...|[{token, 0, 8, eq...|[{token, 0, 8, eq...|\n",
            "| bottles for storage|[{document, 0, 18...|[{token, 0, 6, bo...|[{token, 0, 6, bo...|[{token, 0, 6, bo...|\n",
            "|       mopping stick|[{document, 0, 12...|[{token, 0, 6, mo...|[{token, 0, 6, mo...|[{token, 0, 6, mo...|\n",
            "|             cleaner|[{document, 0, 6,...|[{token, 0, 6, cl...|[{token, 0, 6, cl...|[{token, 0, 6, cl...|\n",
            "|hammers and wrenches|[{document, 0, 19...|[{token, 0, 6, ha...|[{token, 0, 6, ha...|[{token, 0, 6, ha...|\n",
            "|              pliers|[{document, 0, 5,...|[{token, 0, 5, pl...|[{token, 0, 5, pl...|[{token, 0, 5, pl...|\n",
            "|            tool set|[{document, 0, 7,...|[{token, 0, 3, to...|[{token, 0, 3, to...|[{token, 0, 3, to...|\n",
            "+--------------------+--------------------+--------------------+--------------------+--------------------+\n",
            "\n",
            "+---------------------+\n",
            "|result               |\n",
            "+---------------------+\n",
            "|[equipment, cleaning]|\n",
            "|[bottles, storage]   |\n",
            "|[mopping, stick]     |\n",
            "|[cleaner]            |\n",
            "|[hammers, wrenches]  |\n",
            "|[pliers]             |\n",
            "|[tool, set]          |\n",
            "+---------------------+\n",
            "\n"
          ]
        }
      ]
    },
    {
      "cell_type": "code",
      "source": [
        "df2 = pd.read_excel('/content/codes_ref.xlsx',header=2)\n",
        "df2\n",
        "\n",
        "data1 = spark.createDataFrame (df2['Description'].values.tolist(),StringType()).toDF(\"text1\")\n",
        "data1.show(truncate=80)\n"
      ],
      "metadata": {
        "colab": {
          "base_uri": "https://localhost:8080/"
        },
        "id": "m44d0_HV5mrS",
        "outputId": "64adce4d-5e42-4e1d-fcf1-2dcb8e49495f"
      },
      "execution_count": 162,
      "outputs": [
        {
          "output_type": "stream",
          "name": "stdout",
          "text": [
            "+-------------------------------------+\n",
            "|                                text1|\n",
            "+-------------------------------------+\n",
            "|                  pliers and wrenches|\n",
            "|mops, buckets, and signs for cleaning|\n",
            "|                  chlorine 10 gallons|\n",
            "|                       something else|\n",
            "|        another description I made up|\n",
            "+-------------------------------------+\n",
            "\n"
          ]
        }
      ]
    },
    {
      "cell_type": "code",
      "source": [
        "from sparknlp.base import *\n",
        "from sparknlp.annotator import *\n",
        "\n",
        "documentAssembler1 = DocumentAssembler()\\\n",
        "    .setInputCol(\"text1\")\\\n",
        "    .setOutputCol(\"document1\")\n",
        "\n",
        "tokenizer1 = Tokenizer() \\\n",
        "    .setInputCols([\"document1\"]) \\\n",
        "    .setOutputCol(\"token1\")\n",
        "\n",
        "stopwords1 = StopWordsCleaner()\\\n",
        "    .setInputCols(\"token1\")\\\n",
        "    .setOutputCol(\"stopwords1\")\n",
        "           \n",
        "\n",
        "normalizer1 = Normalizer() \\\n",
        "    .setInputCols([\"stopwords1\"]) \\\n",
        "    .setOutputCol(\"normalized1\")\\\n",
        "    .setLowercase(True)\\\n",
        "    .setCleanupPatterns([\"[^\\w\\d\\s]\"]) # remove punctuations (keep alphanumeric chars)\n",
        "    # if we don't set CleanupPatterns, it will only keep alphabet letters ([^A-Za-z])\n",
        "\n",
        "nlpPipeline = Pipeline().setStages([\n",
        "    documentAssembler, \n",
        "    tokenizer,\n",
        "    stopwords,\n",
        "    normalizer\n",
        " ])\n",
        "\n",
        "\n",
        "#empty_df = spark.createDataFrame(data).toDF(\"text\")\n",
        "pipelineModel1 = nlpPipeline.fit(data1)"
      ],
      "metadata": {
        "id": "p517aNaX7KTB"
      },
      "execution_count": 169,
      "outputs": []
    },
    {
      "cell_type": "code",
      "source": [
        "result1 = pipelineModel1.transform(data1)\n",
        "result1.show()\n",
        "df4=result1.select('normalized.result').show(truncate=False)\n",
        "df4 \n"
      ],
      "metadata": {
        "colab": {
          "base_uri": "https://localhost:8080/"
        },
        "id": "Ks9VdIPX7Xj-",
        "outputId": "232f3cc4-8780-4f25-e709-44bce52b52fc"
      },
      "execution_count": 192,
      "outputs": [
        {
          "output_type": "stream",
          "name": "stdout",
          "text": [
            "+--------------------+--------------------+--------------------+--------------------+--------------------+\n",
            "|               text1|            document|               token|           stopwords|          normalized|\n",
            "+--------------------+--------------------+--------------------+--------------------+--------------------+\n",
            "| pliers and wrenches|[{document, 0, 18...|[{token, 0, 5, pl...|[{token, 0, 5, pl...|[{token, 0, 5, pl...|\n",
            "|mops, buckets, an...|[{document, 0, 36...|[{token, 0, 3, mo...|[{token, 0, 3, mo...|[{token, 0, 3, mo...|\n",
            "| chlorine 10 gallons|[{document, 0, 18...|[{token, 0, 7, ch...|[{token, 0, 7, ch...|[{token, 0, 7, ch...|\n",
            "|      something else|[{document, 0, 13...|[{token, 0, 8, so...|[{token, 0, 8, so...|[{token, 0, 8, so...|\n",
            "|another descripti...|[{document, 0, 28...|[{token, 0, 6, an...|[{token, 0, 6, an...|[{token, 0, 6, an...|\n",
            "+--------------------+--------------------+--------------------+--------------------+--------------------+\n",
            "\n",
            "+--------------------------------+\n",
            "|result                          |\n",
            "+--------------------------------+\n",
            "|[pliers, wrenches]              |\n",
            "|[mops, buckets, signs, cleaning]|\n",
            "|[chlorine, 10, gallons]         |\n",
            "|[something, else]               |\n",
            "|[another, description, made]    |\n",
            "+--------------------------------+\n",
            "\n"
          ]
        }
      ]
    },
    {
      "cell_type": "code",
      "source": [
        "from jellyfish import jaro_winkler_similarity\n",
        "from similarity import jaro_winkler\n",
        "\n",
        "jarowinkler = jaro_winkler_similarity\n",
        "df[\"jarowinkler_sim\"] = [jarowinkler.similarity(i,j) for i,j in zip(result[f\"normalized\"].reshape(1,-1),result1[f\"normalized\"].reshape(1,-1))]"
      ],
      "metadata": {
        "id": "VgfDeAyQ8LAY"
      },
      "execution_count": null,
      "outputs": []
    }
  ]
}